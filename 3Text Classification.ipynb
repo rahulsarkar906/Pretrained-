{
 "cells": [
  {
   "cell_type": "code",
   "execution_count": 1,
   "metadata": {
    "collapsed": true
   },
   "outputs": [],
   "source": [
    "from sklearn.datasets import fetch_20newsgroups\n",
    "from sklearn.feature_extraction.text import TfidfVectorizer\n",
    "from sklearn import metrics\n",
    "import numpy as np"
   ]
  },
  {
   "cell_type": "code",
   "execution_count": 2,
   "metadata": {
    "collapsed": true
   },
   "outputs": [],
   "source": [
    "categories = ['rec.autos', 'sci.electronics', 'comp.graphics',\n",
    "              'alt.atheism','sci.space']\n",
    "data_train = fetch_20newsgroups(subset='train',\n",
    "                                categories=categories,\n",
    "                                shuffle=True,\n",
    "                                random_state=2017,\n",
    "                                remove=('headers','footers','quotes'))\n",
    "data_test = fetch_20newsgroups(subset='test',\n",
    "                                categories=categories,\n",
    "                                shuffle=True,\n",
    "                                random_state=2017,\n",
    "                                remove=('headers','footers','quotes'))"
   ]
  },
  {
   "cell_type": "code",
   "execution_count": 3,
   "metadata": {
    "collapsed": true
   },
   "outputs": [],
   "source": [
    "y_train = data_train.target\n",
    "y_test = data_test.target"
   ]
  },
  {
   "cell_type": "code",
   "execution_count": 4,
   "metadata": {
    "collapsed": true
   },
   "outputs": [],
   "source": [
    "vectorizer = TfidfVectorizer(sublinear_tf=True,\n",
    "                            smooth_idf=True,\n",
    "                            max_df=0.5,\n",
    "                            ngram_range=(1,2),\n",
    "                            stop_words='english')"
   ]
  },
  {
   "cell_type": "code",
   "execution_count": 5,
   "metadata": {
    "collapsed": true
   },
   "outputs": [],
   "source": [
    "X_train = vectorizer.fit_transform(data_train.data)\n",
    "X_test = vectorizer.transform(data_test.data)"
   ]
  },
  {
   "cell_type": "code",
   "execution_count": 6,
   "metadata": {},
   "outputs": [
    {
     "name": "stdout",
     "output_type": "stream",
     "text": [
      "Train Dataset\n",
      "2842 documents\n",
      "5 categories\n",
      "Number of samples: 2842, number of features: 219812\n"
     ]
    }
   ],
   "source": [
    "print(\"Train Dataset\")\n",
    "print(\"%d documents\" % len(data_train.data))\n",
    "print(\"%d categories\" % len(data_train.target_names))\n",
    "print(\"Number of samples: %d, number of features: %d\" % X_train.shape)"
   ]
  },
  {
   "cell_type": "code",
   "execution_count": 7,
   "metadata": {},
   "outputs": [
    {
     "name": "stdout",
     "output_type": "stream",
     "text": [
      "Test Dataset\n",
      "1891 documents\n",
      "5 categories\n",
      "Number of samples: 1891, number of features: 219812\n"
     ]
    }
   ],
   "source": [
    "print(\"Test Dataset\")\n",
    "print(\"%d documents\" % len(data_test.data))\n",
    "print(\"%d categories\" % len(data_test.target_names))\n",
    "print(\"Number of samples: %d, number of features: %d\" % X_test.shape)"
   ]
  },
  {
   "cell_type": "markdown",
   "metadata": {},
   "source": [
    "## Naive Bayes Classifier"
   ]
  },
  {
   "cell_type": "code",
   "execution_count": 8,
   "metadata": {
    "collapsed": true
   },
   "outputs": [],
   "source": [
    "# Naive Bayes classification model:\n",
    "from sklearn.naive_bayes import MultinomialNB"
   ]
  },
  {
   "cell_type": "code",
   "execution_count": 9,
   "metadata": {
    "collapsed": true
   },
   "outputs": [],
   "source": [
    "clf_NB = MultinomialNB()\n",
    "clf_NB = clf_NB.fit(X_train, y_train)"
   ]
  },
  {
   "cell_type": "code",
   "execution_count": 10,
   "metadata": {
    "collapsed": true
   },
   "outputs": [],
   "source": [
    "y_train_pred = clf_NB.predict(X_train)\n",
    "y_test_pred = clf_NB.predict(X_test)"
   ]
  },
  {
   "cell_type": "code",
   "execution_count": 11,
   "metadata": {},
   "outputs": [
    {
     "name": "stdout",
     "output_type": "stream",
     "text": [
      "Train accuracy score: 0.975721323012\n",
      "Test accuracy score: 0.804336329984\n"
     ]
    }
   ],
   "source": [
    "print(\"Train accuracy score:\", metrics.accuracy_score(y_train, y_train_pred))\n",
    "print(\"Test accuracy score:\", metrics.accuracy_score(y_test, y_test_pred))"
   ]
  },
  {
   "cell_type": "code",
   "execution_count": 12,
   "metadata": {},
   "outputs": [
    {
     "name": "stdout",
     "output_type": "stream",
     "text": [
      "Classification Report(Train)\n",
      "             precision    recall  f1-score   support\n",
      "\n",
      "          0       1.00      0.97      0.98       480\n",
      "          1       0.99      0.97      0.98       584\n",
      "          2       0.90      1.00      0.95       594\n",
      "          3       1.00      0.97      0.98       591\n",
      "          4       1.00      0.97      0.98       593\n",
      "\n",
      "avg / total       0.98      0.98      0.98      2842\n",
      "\n",
      "Classification Report(Test)\n",
      "             precision    recall  f1-score   support\n",
      "\n",
      "          0       0.93      0.70      0.80       319\n",
      "          1       0.79      0.87      0.83       389\n",
      "          2       0.76      0.89      0.82       396\n",
      "          3       0.87      0.69      0.77       393\n",
      "          4       0.75      0.85      0.80       394\n",
      "\n",
      "avg / total       0.82      0.80      0.80      1891\n",
      "\n"
     ]
    }
   ],
   "source": [
    "#classification report\n",
    "print(\"Classification Report(Train)\")\n",
    "print(metrics.classification_report(y_train, y_train_pred))\n",
    "print(\"Classification Report(Test)\")\n",
    "print(metrics.classification_report(y_test, y_test_pred))"
   ]
  },
  {
   "cell_type": "markdown",
   "metadata": {},
   "source": [
    "## Support Vector Machines"
   ]
  },
  {
   "cell_type": "code",
   "execution_count": 13,
   "metadata": {
    "collapsed": true
   },
   "outputs": [],
   "source": [
    "from sklearn.svm import SVC"
   ]
  },
  {
   "cell_type": "code",
   "execution_count": 14,
   "metadata": {
    "collapsed": true
   },
   "outputs": [],
   "source": [
    "svm_cls = SVC(kernel='rbf', gamma=1.0,C=1000)\n",
    "svm_cls = svm_cls.fit(X_train, y_train)"
   ]
  },
  {
   "cell_type": "code",
   "execution_count": 15,
   "metadata": {
    "collapsed": true
   },
   "outputs": [],
   "source": [
    "y_train_pred = svm_cls.predict(X_train)\n",
    "y_test_pred = svm_cls.predict(X_test)"
   ]
  },
  {
   "cell_type": "code",
   "execution_count": 16,
   "metadata": {},
   "outputs": [
    {
     "name": "stdout",
     "output_type": "stream",
     "text": [
      "Train accuracy score: 0.978184377199\n",
      "Test accuracy score: 0.797461660497\n"
     ]
    }
   ],
   "source": [
    "print(\"Train accuracy score:\", metrics.accuracy_score(y_train, y_train_pred))\n",
    "print(\"Test accuracy score:\", metrics.accuracy_score(y_test, y_test_pred))"
   ]
  },
  {
   "cell_type": "code",
   "execution_count": 17,
   "metadata": {},
   "outputs": [
    {
     "name": "stdout",
     "output_type": "stream",
     "text": [
      "Classification Report(Train)\n",
      "             precision    recall  f1-score   support\n",
      "\n",
      "          0       1.00      0.97      0.99       480\n",
      "          1       1.00      0.97      0.99       584\n",
      "          2       0.91      1.00      0.95       594\n",
      "          3       1.00      0.97      0.99       591\n",
      "          4       1.00      0.97      0.99       593\n",
      "\n",
      "avg / total       0.98      0.98      0.98      2842\n",
      "\n",
      "Classification Report(Test)\n",
      "             precision    recall  f1-score   support\n",
      "\n",
      "          0       0.88      0.75      0.81       319\n",
      "          1       0.80      0.84      0.82       389\n",
      "          2       0.77      0.87      0.82       396\n",
      "          3       0.78      0.73      0.75       393\n",
      "          4       0.79      0.79      0.79       394\n",
      "\n",
      "avg / total       0.80      0.80      0.80      1891\n",
      "\n"
     ]
    }
   ],
   "source": [
    "#classification report\n",
    "print(\"Classification Report(Train)\")\n",
    "print(metrics.classification_report(y_train, y_train_pred))\n",
    "print(\"Classification Report(Test)\")\n",
    "print(metrics.classification_report(y_test, y_test_pred))"
   ]
  },
  {
   "cell_type": "markdown",
   "metadata": {
    "collapsed": true
   },
   "source": [
    "## Reference:\n",
    "\n",
    "http://scikit-learn.org/stable/tutorial/text_analytics/working_with_text_data.html\n",
    "\n",
    "http://scikit-learn.org/stable/modules/generated/sklearn.feature_extraction.text.TfidfVectorizer.html"
   ]
  }
 ],
 "metadata": {
  "kernelspec": {
   "display_name": "Python 3",
   "language": "python",
   "name": "python3"
  },
  "language_info": {
   "codemirror_mode": {
    "name": "ipython",
    "version": 3
   },
   "file_extension": ".py",
   "mimetype": "text/x-python",
   "name": "python",
   "nbconvert_exporter": "python",
   "pygments_lexer": "ipython3",
   "version": "3.6.1"
  }
 },
 "nbformat": 4,
 "nbformat_minor": 2
}
