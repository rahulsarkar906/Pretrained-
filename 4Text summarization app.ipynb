{
 "cells": [
  {
   "cell_type": "code",
   "execution_count": 1,
   "metadata": {
    "collapsed": true
   },
   "outputs": [],
   "source": [
    "import nltk\n",
    "from nltk.tokenize import sent_tokenize, word_tokenize"
   ]
  },
  {
   "cell_type": "code",
   "execution_count": 2,
   "metadata": {},
   "outputs": [
    {
     "data": {
      "text/plain": [
       "\"The European Organization for Nuclear Research, is a European research organization that operates the largest particle physics laboratory in the world. Established in 1954, the organization is based in a northwest suburb of Geneva on the Franco–Swiss border and has 22 member states. Israel is the only non-European country granted full membership. CERN is an official United Nations Observer.\\n\\nThe term CERN is also used to refer to the laboratory, which in 2016 had 2,500 scientific, technical, and administrative staff members, and hosted about 12,000 users. In the same year, CERN generated 49 petabytes of data.\\n\\nCERN's main function is to provide the particle accelerators and other infrastructure needed for high-energy physics research – as a result, numerous experiments have been constructed at CERN through international collaborations. The main site at Meyrin hosts a large computing facility, which is primarily used to store and analyse data from experiments, as well as simulate events. Researchers need remote access to these facilities, so the lab has historically been a major wide area network hub. CERN is also the birthplace of the World Wide Web.\\n\\nThe World Wide Web began as a CERN project named ENQUIRE, initiated by Tim Berners-Lee in 1989 and Robert Cailliau in 1990. Berners-Lee and Cailliau were jointly honoured by the Association for Computing Machinery in 1995 for their contributions to the development of the World Wide Web.\\n\\nBased on the concept of hypertext, the project was intended to facilitate the sharing of information between researchers. The first website was activated in 1991. On 30 April 1993, CERN announced that the World Wide Web would be free to anyone. A copy of the original first webpage, created by Berners-Lee, is still published on the World Wide Web Consortium's website as a historical document.\\n\\nPrior to the Web's development, CERN had pioneered the introduction of Internet technology, beginning in the early 1980s.\\n\\nMore recently, CERN has become a facility for the development of grid computing, hosting projects including the Enabling Grids for E-sciencE (EGEE) and LHC Computing Grid. It also hosts the CERN Internet Exchange Point (CIXP), one of the two main internet exchange points in Switzerland.\""
      ]
     },
     "execution_count": 2,
     "metadata": {},
     "output_type": "execute_result"
    }
   ],
   "source": [
    "text = open('../Data/cern.txt').read()\n",
    "text"
   ]
  },
  {
   "cell_type": "code",
   "execution_count": 6,
   "metadata": {
    "collapsed": true
   },
   "outputs": [],
   "source": [
    "def summarization(text):\n",
    "    results = []\n",
    "    for number, sentence in enumerate(sent_tokenize(text)):\n",
    "        number_tokens=len(word_tokenize(sentence))\n",
    "        tagged=nltk.pos_tag(word_tokenize(sentence))\n",
    "        number_nouns=len([word for word, pos in tagged if pos in [\"NN\",\"NNP\"]])\n",
    "        #use NER to tag the named entities\n",
    "        ners=nltk.ne_chunk(nltk.pos_tag(word_tokenize(sentence)),binary=False)\n",
    "        number_ners=len([chunk for chunk in ners if hasattr(chunk,'label')])\n",
    "        score=(number_ners+number_nouns)/float(number_tokens)\n",
    "        results.append((number,score,sentence))\n",
    "    return results   "
   ]
  },
  {
   "cell_type": "code",
   "execution_count": 7,
   "metadata": {},
   "outputs": [
    {
     "data": {
      "text/plain": [
       "[(0,\n",
       "  0.4782608695652174,\n",
       "  'The European Organization for Nuclear Research, is a European research organization that operates the largest particle physics laboratory in the world.'),\n",
       " (1,\n",
       "  0.3333333333333333,\n",
       "  'Established in 1954, the organization is based in a northwest suburb of Geneva on the Franco–Swiss border and has 22 member states.'),\n",
       " (2, 0.4, 'Israel is the only non-European country granted full membership.'),\n",
       " (3, 0.625, 'CERN is an official United Nations Observer.'),\n",
       " (4,\n",
       "  0.15625,\n",
       "  'The term CERN is also used to refer to the laboratory, which in 2016 had 2,500 scientific, technical, and administrative staff members, and hosted about 12,000 users.'),\n",
       " (5, 0.25, 'In the same year, CERN generated 49 petabytes of data.'),\n",
       " (6,\n",
       "  0.29411764705882354,\n",
       "  \"CERN's main function is to provide the particle accelerators and other infrastructure needed for high-energy physics research – as a result, numerous experiments have been constructed at CERN through international collaborations.\"),\n",
       " (7,\n",
       "  0.13793103448275862,\n",
       "  'The main site at Meyrin hosts a large computing facility, which is primarily used to store and analyse data from experiments, as well as simulate events.'),\n",
       " (8,\n",
       "  0.23809523809523808,\n",
       "  'Researchers need remote access to these facilities, so the lab has historically been a major wide area network hub.'),\n",
       " (9, 0.5454545454545454, 'CERN is also the birthplace of the World Wide Web.'),\n",
       " (10,\n",
       "  0.5833333333333334,\n",
       "  'The World Wide Web began as a CERN project named ENQUIRE, initiated by Tim Berners-Lee in 1989 and Robert Cailliau in 1990.'),\n",
       " (11,\n",
       "  0.4230769230769231,\n",
       "  'Berners-Lee and Cailliau were jointly honoured by the Association for Computing Machinery in 1995 for their contributions to the development of the World Wide Web.'),\n",
       " (12,\n",
       "  0.25,\n",
       "  'Based on the concept of hypertext, the project was intended to facilitate the sharing of information between researchers.'),\n",
       " (13, 0.125, 'The first website was activated in 1991.'),\n",
       " (14,\n",
       "  0.3888888888888889,\n",
       "  'On 30 April 1993, CERN announced that the World Wide Web would be free to anyone.'),\n",
       " (15,\n",
       "  0.32142857142857145,\n",
       "  \"A copy of the original first webpage, created by Berners-Lee, is still published on the World Wide Web Consortium's website as a historical document.\"),\n",
       " (16,\n",
       "  0.3181818181818182,\n",
       "  \"Prior to the Web's development, CERN had pioneered the introduction of Internet technology, beginning in the early 1980s.\"),\n",
       " (17,\n",
       "  0.4838709677419355,\n",
       "  'More recently, CERN has become a facility for the development of grid computing, hosting projects including the Enabling Grids for E-sciencE (EGEE) and LHC Computing Grid.'),\n",
       " (18,\n",
       "  0.4782608695652174,\n",
       "  'It also hosts the CERN Internet Exchange Point (CIXP), one of the two main internet exchange points in Switzerland.')]"
      ]
     },
     "execution_count": 7,
     "metadata": {},
     "output_type": "execute_result"
    }
   ],
   "source": [
    "summ = summarization(text)\n",
    "summ"
   ]
  },
  {
   "cell_type": "code",
   "execution_count": 8,
   "metadata": {},
   "outputs": [
    {
     "name": "stdout",
     "output_type": "stream",
     "text": [
      "CERN is an official United Nations Observer.\n",
      "The World Wide Web began as a CERN project named ENQUIRE, initiated by Tim Berners-Lee in 1989 and Robert Cailliau in 1990.\n",
      "CERN is also the birthplace of the World Wide Web.\n",
      "More recently, CERN has become a facility for the development of grid computing, hosting projects including the Enabling Grids for E-sciencE (EGEE) and LHC Computing Grid.\n",
      "The European Organization for Nuclear Research, is a European research organization that operates the largest particle physics laboratory in the world.\n",
      "It also hosts the CERN Internet Exchange Point (CIXP), one of the two main internet exchange points in Switzerland.\n",
      "Berners-Lee and Cailliau were jointly honoured by the Association for Computing Machinery in 1995 for their contributions to the development of the World Wide Web.\n",
      "Israel is the only non-European country granted full membership.\n",
      "On 30 April 1993, CERN announced that the World Wide Web would be free to anyone.\n",
      "Established in 1954, the organization is based in a northwest suburb of Geneva on the Franco–Swiss border and has 22 member states.\n",
      "A copy of the original first webpage, created by Berners-Lee, is still published on the World Wide Web Consortium's website as a historical document.\n",
      "Prior to the Web's development, CERN had pioneered the introduction of Internet technology, beginning in the early 1980s.\n",
      "CERN's main function is to provide the particle accelerators and other infrastructure needed for high-energy physics research – as a result, numerous experiments have been constructed at CERN through international collaborations.\n",
      "In the same year, CERN generated 49 petabytes of data.\n",
      "Based on the concept of hypertext, the project was intended to facilitate the sharing of information between researchers.\n",
      "Researchers need remote access to these facilities, so the lab has historically been a major wide area network hub.\n",
      "The term CERN is also used to refer to the laboratory, which in 2016 had 2,500 scientific, technical, and administrative staff members, and hosted about 12,000 users.\n",
      "The main site at Meyrin hosts a large computing facility, which is primarily used to store and analyse data from experiments, as well as simulate events.\n",
      "The first website was activated in 1991.\n"
     ]
    }
   ],
   "source": [
    "# sorting the tuple based on the score in descending order\n",
    "for i in sorted(summ, key=lambda x: x[1], reverse=True):\n",
    "    print(i[2])"
   ]
  },
  {
   "cell_type": "markdown",
   "metadata": {
    "collapsed": true
   },
   "source": [
    "## References:\n",
    "\n",
    "http://www.nltk.org/api/nltk.tokenize.html\n",
    "\n",
    "http://www.nltk.org/book/ch02.html\n",
    "\n",
    "http://www.nltk.org/book/ch05.html\n",
    "\n",
    "http://www.nltk.org/book/ch07.html"
   ]
  }
 ],
 "metadata": {
  "kernelspec": {
   "display_name": "Python 3",
   "language": "python",
   "name": "python3"
  },
  "language_info": {
   "codemirror_mode": {
    "name": "ipython",
    "version": 3
   },
   "file_extension": ".py",
   "mimetype": "text/x-python",
   "name": "python",
   "nbconvert_exporter": "python",
   "pygments_lexer": "ipython3",
   "version": "3.6.1"
  }
 },
 "nbformat": 4,
 "nbformat_minor": 2
}
