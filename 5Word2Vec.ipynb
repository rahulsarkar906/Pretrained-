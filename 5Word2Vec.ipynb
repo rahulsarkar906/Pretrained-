{
 "cells": [
  {
   "cell_type": "markdown",
   "metadata": {},
   "source": [
    "## Installation:\n",
    " \n",
    " pip install -U gensim"
   ]
  },
  {
   "cell_type": "markdown",
   "metadata": {},
   "source": [
    "## Semantic Review:"
   ]
  },
  {
   "cell_type": "code",
   "execution_count": 1,
   "metadata": {
    "collapsed": true
   },
   "outputs": [],
   "source": [
    "from nltk.tokenize import sent_tokenize\n",
    "from nltk.tokenize import word_tokenize\n",
    "from nltk.corpus import stopwords\n",
    "from nltk.stem import WordNetLemmatizer\n",
    "import string\n",
    "import warnings\n",
    "warnings.filterwarnings(action='ignore', category=UserWarning, module='gensim')\n",
    "from gensim.models import Word2Vec"
   ]
  },
  {
   "cell_type": "code",
   "execution_count": 2,
   "metadata": {
    "collapsed": true
   },
   "outputs": [],
   "source": [
    "from nltk.corpus import brown, movie_reviews, treebank\n",
    "br = Word2Vec(brown.sents())\n",
    "mr = Word2Vec(movie_reviews.sents())\n",
    "tb = Word2Vec(treebank.sents())"
   ]
  },
  {
   "cell_type": "code",
   "execution_count": 3,
   "metadata": {},
   "outputs": [
    {
     "name": "stderr",
     "output_type": "stream",
     "text": [
      "c:\\users\\tarun.rao\\appdata\\local\\continuumv1\\anaconda3.1\\lib\\site-packages\\ipykernel_launcher.py:1: DeprecationWarning: Call to deprecated `most_similar` (Method will be removed in 4.0.0, use self.wv.most_similar() instead).\n",
      "  \"\"\"Entry point for launching an IPython kernel.\n"
     ]
    },
    {
     "data": {
      "text/plain": [
       "[('care', 0.911562442779541),\n",
       " ('chance', 0.9062464833259583),\n",
       " ('job', 0.8939780592918396),\n",
       " ('trouble', 0.8660920858383179),\n",
       " ('easy', 0.865449845790863)]"
      ]
     },
     "execution_count": 3,
     "metadata": {},
     "output_type": "execute_result"
    }
   ],
   "source": [
    "br.most_similar('money', topn=5)"
   ]
  },
  {
   "cell_type": "code",
   "execution_count": 4,
   "metadata": {},
   "outputs": [
    {
     "name": "stderr",
     "output_type": "stream",
     "text": [
      "c:\\users\\tarun.rao\\appdata\\local\\continuumv1\\anaconda3.1\\lib\\site-packages\\ipykernel_launcher.py:1: DeprecationWarning: Call to deprecated `most_similar` (Method will be removed in 4.0.0, use self.wv.most_similar() instead).\n",
      "  \"\"\"Entry point for launching an IPython kernel.\n"
     ]
    },
    {
     "data": {
      "text/plain": [
       "[('attention', 0.7772340178489685),\n",
       " ('eyes', 0.7634663581848145),\n",
       " ('chance', 0.7486740946769714),\n",
       " ('him', 0.746951699256897),\n",
       " ('home', 0.7277846932411194)]"
      ]
     },
     "execution_count": 4,
     "metadata": {},
     "output_type": "execute_result"
    }
   ],
   "source": [
    "mr.most_similar('money', topn=5)"
   ]
  },
  {
   "cell_type": "code",
   "execution_count": 5,
   "metadata": {},
   "outputs": [
    {
     "name": "stderr",
     "output_type": "stream",
     "text": [
      "c:\\users\\tarun.rao\\appdata\\local\\continuumv1\\anaconda3.1\\lib\\site-packages\\ipykernel_launcher.py:1: DeprecationWarning: Call to deprecated `most_similar` (Method will be removed in 4.0.0, use self.wv.most_similar() instead).\n",
      "  \"\"\"Entry point for launching an IPython kernel.\n"
     ]
    },
    {
     "data": {
      "text/plain": [
       "[('all', 0.9999130964279175),\n",
       " ('new', 0.999905526638031),\n",
       " ('only', 0.9998869895935059),\n",
       " ('traders', 0.9998831152915955),\n",
       " ('Japanese', 0.9998813271522522)]"
      ]
     },
     "execution_count": 5,
     "metadata": {},
     "output_type": "execute_result"
    }
   ],
   "source": [
    "tb.most_similar('money', topn=5)"
   ]
  },
  {
   "cell_type": "markdown",
   "metadata": {},
   "source": [
    "## Example with your own dataset"
   ]
  },
  {
   "cell_type": "code",
   "execution_count": 6,
   "metadata": {},
   "outputs": [
    {
     "data": {
      "text/plain": [
       "\"What an astonishing thing a book is. It's a flat object made from a tree with flexible parts on which are imprinted lots of funny dark squiggles. But one glance at it and you're inside the mind of another person, maybe somebody dead for thousands of years. Across the millennia, an author is speaking clearly and silently inside your head, directly to you. Writing is perhaps the greatest of human inventions, binding together people who never knew each other, citizens of distant epochs. Books break the shackles of time. A book is proof that humans are capable of working magic.\""
      ]
     },
     "execution_count": 6,
     "metadata": {},
     "output_type": "execute_result"
    }
   ],
   "source": [
    "text = open('../Data/carl_sagan_quote.txt').read()\n",
    "text"
   ]
  },
  {
   "cell_type": "code",
   "execution_count": 7,
   "metadata": {
    "collapsed": true
   },
   "outputs": [],
   "source": [
    "def preprocessing(text):\n",
    "    result = []\n",
    "    sent = sent_tokenize(text)\n",
    "    for sentence in sent:\n",
    "        words = word_tokenize(sentence)\n",
    "        tokens = [w for w in words if w.lower() not in string.punctuation]\n",
    "        stopw = stopwords.words('english')\n",
    "        tokens = [token for token in tokens if token not in stopw]\n",
    "    # remove words less than three letters\n",
    "        tokens = [word for word in tokens if len(word)>=3]\n",
    "    # lemmatize\n",
    "        lemma = WordNetLemmatizer()\n",
    "        tokens = [lemma.lemmatize(word) for word in tokens]\n",
    "        result += [tokens] \n",
    "    return result "
   ]
  },
  {
   "cell_type": "code",
   "execution_count": 8,
   "metadata": {},
   "outputs": [
    {
     "data": {
      "text/plain": [
       "[['What', 'astonishing', 'thing', 'book'],\n",
       " ['flat',\n",
       "  'object',\n",
       "  'made',\n",
       "  'tree',\n",
       "  'flexible',\n",
       "  'part',\n",
       "  'imprinted',\n",
       "  'lot',\n",
       "  'funny',\n",
       "  'dark',\n",
       "  'squiggle'],\n",
       " ['But',\n",
       "  'one',\n",
       "  'glance',\n",
       "  \"'re\",\n",
       "  'inside',\n",
       "  'mind',\n",
       "  'another',\n",
       "  'person',\n",
       "  'maybe',\n",
       "  'somebody',\n",
       "  'dead',\n",
       "  'thousand',\n",
       "  'year'],\n",
       " ['Across',\n",
       "  'millennium',\n",
       "  'author',\n",
       "  'speaking',\n",
       "  'clearly',\n",
       "  'silently',\n",
       "  'inside',\n",
       "  'head',\n",
       "  'directly'],\n",
       " ['Writing',\n",
       "  'perhaps',\n",
       "  'greatest',\n",
       "  'human',\n",
       "  'invention',\n",
       "  'binding',\n",
       "  'together',\n",
       "  'people',\n",
       "  'never',\n",
       "  'knew',\n",
       "  'citizen',\n",
       "  'distant',\n",
       "  'epoch'],\n",
       " ['Books', 'break', 'shackle', 'time'],\n",
       " ['book', 'proof', 'human', 'capable', 'working', 'magic']]"
      ]
     },
     "execution_count": 8,
     "metadata": {},
     "output_type": "execute_result"
    }
   ],
   "source": [
    "text_p = preprocessing(text)\n",
    "text_p"
   ]
  },
  {
   "cell_type": "code",
   "execution_count": 9,
   "metadata": {
    "collapsed": true
   },
   "outputs": [],
   "source": [
    "# size – Denotes the number of dimensions present in the vectorial forms.\n",
    "# If you have read the document and have an idea of how many ‘topics’ it has, you can use that number\n",
    "# sg = 0 for CBOW model and 1 for skip-gram model\n",
    "# min_count: Ignore all words with total frequency lower than this\n",
    "# window: the maximum distance between the current and predicted word within\n",
    "# a sentence.\n",
    "model = Word2Vec(text_p, min_count=1, sg=1, window =3)"
   ]
  },
  {
   "cell_type": "code",
   "execution_count": 10,
   "metadata": {},
   "outputs": [
    {
     "data": {
      "text/plain": [
       "[('Books', 0.1713491976261139)]"
      ]
     },
     "execution_count": 10,
     "metadata": {},
     "output_type": "execute_result"
    }
   ],
   "source": [
    "model.wv.most_similar(positive=['millennium','human'], negative=['magic'], topn=1)"
   ]
  },
  {
   "cell_type": "code",
   "execution_count": 11,
   "metadata": {},
   "outputs": [
    {
     "data": {
      "text/plain": [
       "[('Books', 0.6741980910301208)]"
      ]
     },
     "execution_count": 11,
     "metadata": {},
     "output_type": "execute_result"
    }
   ],
   "source": [
    "model.wv.most_similar_cosmul(positive=['millennium', 'human'], negative=['magic'], topn=1)"
   ]
  },
  {
   "cell_type": "code",
   "execution_count": 12,
   "metadata": {},
   "outputs": [
    {
     "data": {
      "text/plain": [
       "[('Writing', 0.21004906296730042)]"
      ]
     },
     "execution_count": 12,
     "metadata": {},
     "output_type": "execute_result"
    }
   ],
   "source": [
    "model.wv.most_similar(positive=['millennium','human','magic'], topn=1)"
   ]
  },
  {
   "cell_type": "code",
   "execution_count": 13,
   "metadata": {},
   "outputs": [
    {
     "data": {
      "text/plain": [
       "'magic'"
      ]
     },
     "execution_count": 13,
     "metadata": {},
     "output_type": "execute_result"
    }
   ],
   "source": [
    "model.wv.doesnt_match(\"millennium human magic book\".split())"
   ]
  },
  {
   "cell_type": "code",
   "execution_count": 17,
   "metadata": {},
   "outputs": [
    {
     "data": {
      "text/plain": [
       "-0.1646221233587741"
      ]
     },
     "execution_count": 17,
     "metadata": {},
     "output_type": "execute_result"
    }
   ],
   "source": [
    "model.wv.similarity('book', 'invention')"
   ]
  },
  {
   "cell_type": "code",
   "execution_count": 16,
   "metadata": {
    "collapsed": true
   },
   "outputs": [],
   "source": [
    "# The word vectors are stored in a KeyedVectors instance in model.wv. \n",
    "#This separates the read-only word vector lookup operations in KeyedVectors from the training code in Word2Vec"
   ]
  },
  {
   "cell_type": "code",
   "execution_count": 17,
   "metadata": {},
   "outputs": [
    {
     "data": {
      "text/plain": [
       "array([  7.59162125e-04,   4.29326249e-03,  -9.71433328e-05,\n",
       "        -3.20858392e-03,  -3.46057955e-03,   3.74793983e-03,\n",
       "        -2.36706066e-04,  -3.33619164e-03,   3.95034067e-03,\n",
       "        -2.31293985e-03,  -3.11416341e-03,  -4.70685726e-03,\n",
       "         4.56498982e-03,   1.60547032e-03,  -3.38979880e-03,\n",
       "        -2.82609207e-03,  -6.20029925e-04,  -2.99799442e-03,\n",
       "         1.37722609e-03,   2.27040006e-03,   1.42021850e-03,\n",
       "        -1.87252893e-03,   1.67034648e-03,   3.54624644e-04,\n",
       "         2.31695129e-03,   3.62769421e-03,   8.82725755e-04,\n",
       "         1.96508481e-03,  -1.49710220e-04,  -3.42197577e-03,\n",
       "        -2.95500271e-03,   3.37115489e-03,  -3.13709420e-03,\n",
       "         2.82665761e-03,   4.54502506e-03,  -3.54530243e-03,\n",
       "        -1.64359424e-03,  -3.42609081e-03,  -1.89274127e-04,\n",
       "         3.13193491e-03,  -3.72925028e-03,   3.98579426e-03,\n",
       "        -3.81984690e-04,  -2.92612100e-03,   2.28097686e-03,\n",
       "         2.30092113e-03,  -9.59188328e-04,   4.68449993e-03,\n",
       "        -4.29685088e-03,  -6.35250122e-04,   8.15901672e-04,\n",
       "        -4.55384096e-03,   4.89573646e-03,   3.32676247e-03,\n",
       "        -3.35280667e-03,   1.85520481e-03,  -5.43203088e-04,\n",
       "         3.42123234e-03,  -1.94159034e-03,   4.85696597e-03,\n",
       "         3.45914485e-03,  -3.29687097e-03,   3.86176235e-03,\n",
       "        -4.03611455e-03,  -9.14758712e-04,  -1.37039681e-03,\n",
       "         4.57866630e-03,   4.33962420e-03,   1.53162226e-03,\n",
       "         4.92425682e-03,  -3.68711166e-03,  -2.17184919e-04,\n",
       "        -1.26468216e-03,  -5.41997491e-04,  -2.60882173e-03,\n",
       "        -4.03720792e-03,   2.29081698e-03,  -4.43385402e-03,\n",
       "         8.19277542e-04,   2.08725105e-03,   4.14379546e-03,\n",
       "         2.95131747e-03,   1.33626396e-03,   3.17586004e-04,\n",
       "         1.92224851e-03,   7.11223634e-04,   4.97777015e-03,\n",
       "        -1.17762107e-03,  -2.89207697e-03,  -1.38685619e-03,\n",
       "         4.82742413e-04,   3.51049681e-03,  -2.42982688e-03,\n",
       "         3.44012119e-03,  -1.18494465e-03,   1.24213728e-03,\n",
       "        -5.90082142e-04,  -4.75911982e-03,  -9.17836442e-04,\n",
       "         3.58297047e-03], dtype=float32)"
      ]
     },
     "execution_count": 17,
     "metadata": {},
     "output_type": "execute_result"
    }
   ],
   "source": [
    "# word vector: vectorial representation.\n",
    "model.wv['book']"
   ]
  },
  {
   "cell_type": "code",
   "execution_count": 18,
   "metadata": {},
   "outputs": [
    {
     "data": {
      "text/plain": [
       "['What',\n",
       " 'astonishing',\n",
       " 'thing',\n",
       " 'book',\n",
       " 'flat',\n",
       " 'object',\n",
       " 'made',\n",
       " 'tree',\n",
       " 'flexible',\n",
       " 'part']"
      ]
     },
     "execution_count": 18,
     "metadata": {},
     "output_type": "execute_result"
    }
   ],
   "source": [
    "vocab = list(model.wv.vocab.keys())\n",
    "vocab[:10]"
   ]
  },
  {
   "cell_type": "markdown",
   "metadata": {},
   "source": [
    "## Storing and Loading models:"
   ]
  },
  {
   "cell_type": "code",
   "execution_count": 19,
   "metadata": {
    "collapsed": true
   },
   "outputs": [],
   "source": [
    "model.save('../Data/word2vec_model')\n",
    "new_model = Word2Vec.load('../Data/word2vec_model')"
   ]
  },
  {
   "cell_type": "code",
   "execution_count": 20,
   "metadata": {},
   "outputs": [
    {
     "data": {
      "text/plain": [
       "[('proof', 0.25983837246894836),\n",
       " ('speaking', 0.25488972663879395),\n",
       " ('person', 0.12957988679409027)]"
      ]
     },
     "execution_count": 20,
     "metadata": {},
     "output_type": "execute_result"
    }
   ],
   "source": [
    "new_model.wv.most_similar(positive=['human','magic'], topn=3)"
   ]
  },
  {
   "cell_type": "markdown",
   "metadata": {},
   "source": [
    "## Metrics:"
   ]
  },
  {
   "cell_type": "code",
   "execution_count": 22,
   "metadata": {},
   "outputs": [
    {
     "name": "stdout",
     "output_type": "stream",
     "text": [
      "[ 0.]\n"
     ]
    }
   ],
   "source": [
    "model_ = Word2Vec(text_p, min_count=1, sg=1, window =3, hs=1, negative=0)\n",
    "print(model_.score([\"The cosmos a space time odyssey\".split()])) #Probability of a text under the model"
   ]
  },
  {
   "cell_type": "markdown",
   "metadata": {},
   "source": [
    "## Reference:\n",
    "\n",
    "https://radimrehurek.com/gensim/models/word2vec.html\n",
    "\n",
    "https://pypi.python.org/pypi/gensim\n",
    "\n",
    "https://radimrehurek.com/gensim/\n",
    "\n",
    "https://radimrehurek.com/gensim/models/word2vec.html#gensim.models.word2vec.Word2Vec"
   ]
  }
 ],
 "metadata": {
  "kernelspec": {
   "display_name": "Python 3",
   "language": "python",
   "name": "python3"
  },
  "language_info": {
   "codemirror_mode": {
    "name": "ipython",
    "version": 3
   },
   "file_extension": ".py",
   "mimetype": "text/x-python",
   "name": "python",
   "nbconvert_exporter": "python",
   "pygments_lexer": "ipython3",
   "version": "3.7.4"
  }
 },
 "nbformat": 4,
 "nbformat_minor": 2
}
