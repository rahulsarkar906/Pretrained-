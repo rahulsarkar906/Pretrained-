{
 "cells": [
  {
   "cell_type": "markdown",
   "metadata": {},
   "source": [
    "<img src=\"../Pics/MLSb-T.png\" width=\"160\">\n",
    "<br><br>\n",
    "<center><u><H1>Sentiment Analysis</H1></u></center>"
   ]
  },
  {
   "cell_type": "markdown",
   "metadata": {},
   "source": [
    "## Definitions:\n",
    "\n",
    "### VADER belongs to a type of sentiment analysis that is based on lexicons of sentiment-related words. In this approach, each of the words in the lexicon is rated as to whether it is positive or negative, and how positive or negative:\n",
    "\n",
    "#### positive sentiment: compound score >= 0.5\n",
    "#### neutral sentiment: (compound score > -0.5) and (compound score < 0.5)\n",
    "#### negative sentiment: compound score <= -0.5\n",
    "\n",
    "#### Compound score: is the sum of all of the lexicon ratings which have been standardised to range between -1 and 1"
   ]
  },
  {
   "cell_type": "code",
   "execution_count": null,
   "metadata": {
    "collapsed": true
   },
   "outputs": [],
   "source": [
    "from nltk.sentiment.vader import SentimentIntensityAnalyzer\n",
    "#from nltk.sentiment.util import *\n",
    "import pandas as pd"
   ]
  },
  {
   "cell_type": "code",
   "execution_count": null,
   "metadata": {},
   "outputs": [],
   "source": [
    "data = pd.read_csv('../Data/Amazon_Unlocked_Mobile.csv')\n",
    "data.head()"
   ]
  },
  {
   "cell_type": "code",
   "execution_count": null,
   "metadata": {},
   "outputs": [],
   "source": [
    "len(data)"
   ]
  },
  {
   "cell_type": "code",
   "execution_count": null,
   "metadata": {},
   "outputs": [],
   "source": [
    "reviews = pd.DataFrame(data['Reviews'][:1000])\n",
    "reviews"
   ]
  },
  {
   "cell_type": "code",
   "execution_count": null,
   "metadata": {
    "collapsed": true
   },
   "outputs": [],
   "source": [
    "sentiment = SentimentIntensityAnalyzer()"
   ]
  },
  {
   "cell_type": "markdown",
   "metadata": {},
   "source": [
    "### Sentiment Scores:\n",
    "#### Compound score: is the sum of all of the lexicon ratings which have been standardised to range between -1 and 1\n"
   ]
  },
  {
   "cell_type": "code",
   "execution_count": null,
   "metadata": {},
   "outputs": [],
   "source": [
    "sentiment.polarity_scores(reviews.loc[0,'Reviews'])['compound']"
   ]
  },
  {
   "cell_type": "code",
   "execution_count": null,
   "metadata": {},
   "outputs": [],
   "source": [
    "for sentences in reviews['Reviews']:\n",
    "    s = sentiment.polarity_scores(sentences)\n",
    "    for k in sorted(s):\n",
    "        print('{0}: {1}, '.format(k, s[k]))\n",
    "    print(sentences)"
   ]
  },
  {
   "cell_type": "code",
   "execution_count": null,
   "metadata": {
    "collapsed": true
   },
   "outputs": [],
   "source": [
    "reviews['polarity_score'] = reviews['Reviews'].apply(lambda x: sentiment.polarity_scores(str(x))['compound'])"
   ]
  },
  {
   "cell_type": "code",
   "execution_count": null,
   "metadata": {
    "collapsed": true
   },
   "outputs": [],
   "source": [
    "reviews['neutral'] = reviews['Reviews'].apply(lambda x:sentiment.polarity_scores(str(x))['neu'])\n",
    "reviews['negative'] = reviews['Reviews'].apply(lambda x:sentiment.polarity_scores(str(x))['neg'])\n",
    "reviews['positive'] = reviews['Reviews'].apply(lambda x:sentiment.polarity_scores(str(x))['pos'])"
   ]
  },
  {
   "cell_type": "code",
   "execution_count": null,
   "metadata": {},
   "outputs": [],
   "source": [
    "reviews.head()"
   ]
  },
  {
   "cell_type": "code",
   "execution_count": null,
   "metadata": {},
   "outputs": [],
   "source": [
    "reviews['sentiment']=''\n",
    "reviews.head()"
   ]
  },
  {
   "cell_type": "code",
   "execution_count": null,
   "metadata": {},
   "outputs": [],
   "source": [
    "reviews.loc[reviews.polarity_score>0,'sentiment']='Positive'\n",
    "reviews.loc[reviews.polarity_score==0,'sentiment']='Neutral'\n",
    "reviews.loc[reviews.polarity_score<0,'sentiment']='Negative'\n",
    "reviews.head()"
   ]
  },
  {
   "cell_type": "code",
   "execution_count": null,
   "metadata": {},
   "outputs": [],
   "source": [
    "%matplotlib inline\n",
    "reviews.sentiment.value_counts().plot(kind='bar', title=\"Sentiment analysis\")"
   ]
  },
  {
   "cell_type": "markdown",
   "metadata": {
    "collapsed": true
   },
   "source": [
    "## Reference:\n",
    "\n",
    "https://twython.readthedocs.io/en/latest/\n",
    "\n",
    "http://www.nltk.org/howto/sentiment.html"
   ]
  }
 ],
 "metadata": {
  "kernelspec": {
   "display_name": "Python [conda root]",
   "language": "python",
   "name": "conda-root-py"
  },
  "language_info": {
   "codemirror_mode": {
    "name": "ipython",
    "version": 2
   },
   "file_extension": ".py",
   "mimetype": "text/x-python",
   "name": "python",
   "nbconvert_exporter": "python",
   "pygments_lexer": "ipython2",
   "version": "2.7.13"
  }
 },
 "nbformat": 4,
 "nbformat_minor": 2
}
